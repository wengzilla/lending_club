{
 "cells": [
  {
   "cell_type": "code",
   "execution_count": 2,
   "metadata": {
    "collapsed": true
   },
   "outputs": [],
   "source": [
    "from __future__ import division\n",
    "import pandas as pd\n",
    "import numpy as np\n",
    "import matplotlib.pyplot as plt\n",
    "from sklearn.ensemble import RandomForestClassifier\n",
    "from sklearn.cross_validation import train_test_split\n",
    "from sklearn.svm import SVC\n",
    "from sklearn.metrics import confusion_matrix\n",
    "import util\n",
    "%matplotlib inline"
   ]
  },
  {
   "cell_type": "code",
   "execution_count": 3,
   "metadata": {
    "collapsed": true
   },
   "outputs": [],
   "source": [
    "def import_data(fname, nrows=None):    \n",
    "    if nrows:\n",
    "        df = pd.read_csv(fname, skiprows=1, nrows=nrows)\n",
    "    else:\n",
    "        df = pd.read_csv(fname, skiprows=1)\n",
    "    return df"
   ]
  },
  {
   "cell_type": "markdown",
   "metadata": {},
   "source": [
    "# Form Benchmarks"
   ]
  },
  {
   "cell_type": "code",
   "execution_count": 32,
   "metadata": {
    "collapsed": false
   },
   "outputs": [],
   "source": [
    "benchmark_data = import_data('./data/LoanStats3b.csv');\n",
    "benchmark_data['term'].replace(np.nan, '', inplace=True)\n",
    "\n",
    "# Restrict to 3 years only...\n",
    "benchmark_data = benchmark_data[benchmark_data['term'].str.contains(\"36 months\")]\n",
    "\n",
    "# benchmark_data['loan_status'].value_counts()\n",
    "\n",
    "# Restrict to non-current loans only...\n",
    "benchmark_data = benchmark_data[benchmark_data['loan_status'] != 'Current']"
   ]
  },
  {
   "cell_type": "code",
   "execution_count": 40,
   "metadata": {
    "collapsed": false
   },
   "outputs": [],
   "source": [
    "benchmark_data['total_return'] =  (benchmark_data['total_pymnt'] - \n",
    "                                   benchmark_data['collection_recovery_fee']) / benchmark_data['loan_amnt']"
   ]
  },
  {
   "cell_type": "code",
   "execution_count": 64,
   "metadata": {
    "collapsed": false
   },
   "outputs": [
    {
     "name": "stdout",
     "output_type": "stream",
     "text": [
      "Benchmark for all non-current, 36-month, loans: 1.08%\n"
     ]
    }
   ],
   "source": [
    "def total_return_for_grade(df, grade):\n",
    "    matching_loans = df[df['grade'] == grade]\n",
    "    return np.average(matching_loans['total_return'])\n",
    "\n",
    "def total_return_for_grades(df, grades):\n",
    "    total_returns = []\n",
    "\n",
    "    for grade in grades:\n",
    "        total_returns.append(total_return_for_grade(df, grade))\n",
    "\n",
    "    return np.average(total_returns)\n",
    "\n",
    "print \"Benchmark for all non-current, 36-month, loans: %.2f%%\" % total_return_for_grades(benchmark_data, [\"A\", \"B\", \"C\"])"
   ]
  },
  {
   "cell_type": "markdown",
   "metadata": {},
   "source": [
    "# Get Returns of Top Loans"
   ]
  },
  {
   "cell_type": "code",
   "execution_count": null,
   "metadata": {
    "collapsed": true
   },
   "outputs": [],
   "source": [
    "# Subgrade, Grade, All\n",
    "\n",
    "def top_indicies(df, sort_column, limit):\n",
    "    sorted_df = df.sort(columns=sort_column, ascending=True)\n",
    "    return sorted_df.index.values[:300]\n",
    "\n",
    "def total_return_for_indices(df, indices):\n",
    "    return np.average(df[indices]['total_return'])"
   ]
  },
  {
   "cell_type": "code",
   "execution_count": null,
   "metadata": {
    "collapsed": true
   },
   "outputs": [],
   "source": []
  }
 ],
 "metadata": {
  "kernelspec": {
   "display_name": "Python 2",
   "language": "python",
   "name": "python2"
  },
  "language_info": {
   "codemirror_mode": {
    "name": "ipython",
    "version": 2
   },
   "file_extension": ".py",
   "mimetype": "text/x-python",
   "name": "python",
   "nbconvert_exporter": "python",
   "pygments_lexer": "ipython2",
   "version": "2.7.11"
  }
 },
 "nbformat": 4,
 "nbformat_minor": 0
}
