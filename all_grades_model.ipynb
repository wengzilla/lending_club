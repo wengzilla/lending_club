{
 "cells": [
  {
   "cell_type": "code",
   "execution_count": 1,
   "metadata": {
    "collapsed": false
   },
   "outputs": [],
   "source": [
    "from __future__ import division\n",
    "import pandas as pd\n",
    "import numpy as np\n",
    "import matplotlib.pyplot as plt\n",
    "import sklearn\n",
    "from sklearn.ensemble import RandomForestClassifier\n",
    "from sklearn.linear_model import LogisticRegression\n",
    "from sklearn.cross_validation import train_test_split\n",
    "from sklearn.svm import SVC\n",
    "from sklearn.metrics import confusion_matrix\n",
    "import util\n",
    "import seaborn as sns\n",
    "import clean_data as cd\n",
    "%matplotlib inline"
   ]
  },
  {
   "cell_type": "code",
   "execution_count": 2,
   "metadata": {
    "collapsed": false
   },
   "outputs": [
    {
     "name": "stderr",
     "output_type": "stream",
     "text": [
      "/usr/local/lib/python2.7/site-packages/IPython/core/interactiveshell.py:2825: DtypeWarning: Columns (0) have mixed types. Specify dtype option on import or set low_memory=False.\n",
      "  if self.run_code(code, result):\n"
     ]
    }
   ],
   "source": [
    "pd2007 = cd.import_data(2007)\n",
    "pd2012 = cd.import_data(2012)"
   ]
  },
  {
   "cell_type": "code",
   "execution_count": 3,
   "metadata": {
    "collapsed": false
   },
   "outputs": [],
   "source": [
    "all_data = pd.concat([pd2007, pd2012])\n",
    "all_data = all_data.set_index('id')"
   ]
  },
  {
   "cell_type": "code",
   "execution_count": 4,
   "metadata": {
    "collapsed": false
   },
   "outputs": [],
   "source": [
    "all_data = all_data[all_data['term'] == 36]"
   ]
  },
  {
   "cell_type": "code",
   "execution_count": 5,
   "metadata": {
    "collapsed": false,
    "scrolled": true
   },
   "outputs": [
    {
     "data": {
      "text/plain": [
       "loan_status\n",
       "Charged Off                                             19157\n",
       "Current                                                 20721\n",
       "Default                                                    33\n",
       "Does not meet the credit policy. Status:Charged Off       615\n",
       "Does not meet the credit policy. Status:Fully Paid       1701\n",
       "Fully Paid                                             124130\n",
       "In Grace Period                                           501\n",
       "Late (16-30 days)                                         125\n",
       "Late (31-120 days)                                        561\n",
       "dtype: int64"
      ]
     },
     "execution_count": 5,
     "metadata": {},
     "output_type": "execute_result"
    }
   ],
   "source": [
    "all_data.groupby('loan_status').size()"
   ]
  },
  {
   "cell_type": "code",
   "execution_count": 6,
   "metadata": {
    "collapsed": false
   },
   "outputs": [
    {
     "data": {
      "text/plain": [
       "loan_status\n",
       "Charged Off            19157\n",
       "Current                20721\n",
       "Default                   33\n",
       "Fully Paid            124130\n",
       "In Grace Period          501\n",
       "Late (16-30 days)        125\n",
       "Late (31-120 days)       561\n",
       "dtype: int64"
      ]
     },
     "execution_count": 6,
     "metadata": {},
     "output_type": "execute_result"
    }
   ],
   "source": [
    "EXCLUDE_STATUSES = [\n",
    "    'Does not meet the credit policy. Status:Charged Off',\n",
    "    'Does not meet the credit policy. Status:Fully Paid'\n",
    "]\n",
    "\n",
    "all_data = all_data[all_data['loan_status'] != 'Does not meet the credit policy. Status:Charged Off']\n",
    "all_data = all_data[all_data['loan_status'] != 'Does not meet the credit policy. Status:Fully Paid']\n",
    "all_data.groupby('loan_status').size()"
   ]
  },
  {
   "cell_type": "code",
   "execution_count": 7,
   "metadata": {
    "collapsed": false
   },
   "outputs": [],
   "source": [
    "non_current_loans = all_data[all_data['loan_status'] != \"Current\"]"
   ]
  },
  {
   "cell_type": "code",
   "execution_count": 8,
   "metadata": {
    "collapsed": false
   },
   "outputs": [],
   "source": [
    "# current_loans['amnt_left'] = (current_loans['total_pymnt'] - current_loans['loan_amnt'])/current_loans['loan_amnt']\n",
    "# non_current_loans.columns"
   ]
  },
  {
   "cell_type": "code",
   "execution_count": 9,
   "metadata": {
    "collapsed": false
   },
   "outputs": [],
   "source": [
    "# sns.distplot(non_current_loans['mths_since_last_delinq'])"
   ]
  },
  {
   "cell_type": "code",
   "execution_count": 21,
   "metadata": {
    "collapsed": true
   },
   "outputs": [],
   "source": [
    "def prepare_df_for_prediction(original_df):\n",
    "    df = original_df.copy()\n",
    "\n",
    "    util.df_binarize_column(df, 'home_ownership', drop_col=True)\n",
    "    util.df_binarize_column(df, 'purpose', drop_col=True)\n",
    "    util.df_binarize_column(df, 'verification_status', drop_col=True)\n",
    "#     df['bin_pub_rec'] = (df['pub_rec'] > 1).astype(int)\n",
    "#     df['bin_mths_since_last_delinq'] = (df['mths_since_last_delinq'] == -1).astype(int)\n",
    "#     df['bin_mths_since_last_record'] = (df['mths_since_last_record'] == -1).astype(int)\n",
    "\n",
    "    df['loan_status'] = (df['loan_status'] == 'Fully Paid').astype(int)\n",
    "    \n",
    "    return df\n",
    "    \n",
    "def get_X_y(df):\n",
    "    y = df['loan_status']\n",
    "    X = df.drop(['term', 'grade', 'sub_grade', 'addr_state', 'zip_code', 'earliest_cr_line', 'issue_d', 'loan_status', 'chargeoff_within_12_mths'], axis=1)\n",
    "#     X = X.drop(['purpose', 'home_ownership', 'verification_status'], axis=1) # binarized columns\n",
    "    X = X.drop(['mths_since_last_record', 'mths_since_last_delinq', 'pub_rec'], axis=1) # presence columns\n",
    "    X = X.drop(['collection_recovery_fee', 'total_pymnt'], axis=1)\n",
    "    return X, y\n",
    "\n",
    "def output_confusion_matrices(model, X_train, y_train, X_test, y_test):\n",
    "    print \"Train score: %.2f\" %model.score(X_train, y_train)\n",
    "    cm_train = confusion_matrix(y_train, model.predict(X_train), labels=[True, False])\n",
    "\n",
    "    print \"Testing score:  %.2f\" %model.score(X_test, y_test)\n",
    "    cm_test = confusion_matrix(y_test, model.predict(X_test), labels=[True, False])\n",
    "\n",
    "    print \"Training confusion matrix:\"\n",
    "    print cm_train\n",
    "    #print cm_train[0,:] * 1.0 / np.sum(y_train)\n",
    "    #print cm_train[1,:] * 1.0 / (len(y_train) - np.sum(y_train))\n",
    "    train_fpr = cm_train[1, 0] / np.sum(cm_train[:, 0]) \n",
    "    print \"Train False positive rate: %.2f\" %train_fpr\n",
    "\n",
    "    \n",
    "    print \"Test confusion matrix:\"\n",
    "    print cm_test\n",
    "    #print cm_test[0,:] / float(np.sum(y_test))\n",
    "    #print cm_test[1,:] / float(len(y_test) - np.sum(y_test))\n",
    "    test_fpr = cm_test[1, 0] / np.sum(cm_test[:, 0]) \n",
    "    print \"Test False positive rate: %.2f\" % test_fpr\n",
    "\n",
    "    print \"*\" * 80\n",
    "    \n",
    "    return test_fpr"
   ]
  },
  {
   "cell_type": "code",
   "execution_count": 13,
   "metadata": {
    "collapsed": false
   },
   "outputs": [],
   "source": [
    "# convert status\n",
    "# binarize columns\n",
    "# classify\n",
    "# predict\n",
    "\n",
    "df = prepare_df_for_prediction(non_current_loans)\n",
    "X, y = get_X_y(df)"
   ]
  },
  {
   "cell_type": "code",
   "execution_count": 20,
   "metadata": {
    "collapsed": false
   },
   "outputs": [
    {
     "name": "stdout",
     "output_type": "stream",
     "text": [
      "Index([u'loan_amnt', u'int_rate', u'installment', u'emp_length', u'annual_inc',\n",
      "       u'dti', u'delinq_2yrs', u'open_acc', u'revol_util', u'revol_bal',\n",
      "       u'total_acc', u'inq_last_6mths', u'months_since_fst_credit', u'fico',\n",
      "       u'home_ownership_NONE', u'home_ownership_OWN', u'home_ownership_OTHER',\n",
      "       u'home_ownership_RENT', u'home_ownership_MORTGAGE',\n",
      "       u'purpose_debt_consolidation', u'purpose_renewable_energy',\n",
      "       u'purpose_house', u'purpose_car', u'purpose_medical',\n",
      "       u'purpose_vacation', u'purpose_credit_card', u'purpose_educational',\n",
      "       u'purpose_other', u'purpose_moving', u'purpose_wedding',\n",
      "       u'purpose_small_business', u'purpose_major_purchase',\n",
      "       u'purpose_home_improvement', u'verification_status_Not Verified',\n",
      "       u'verification_status_Verified',\n",
      "       u'verification_status_Source Verified'],\n",
      "      dtype='object')\n"
     ]
    }
   ],
   "source": [
    "print X.columns"
   ]
  },
  {
   "cell_type": "code",
   "execution_count": 14,
   "metadata": {
    "collapsed": false
   },
   "outputs": [],
   "source": [
    "X_train, X_test, y_train, y_test = train_test_split(X, y, test_size=0.20, random_state=1)"
   ]
  },
  {
   "cell_type": "markdown",
   "metadata": {},
   "source": [
    "# Logistic Regression"
   ]
  },
  {
   "cell_type": "code",
   "execution_count": 15,
   "metadata": {
    "collapsed": false
   },
   "outputs": [],
   "source": [
    "true_weight = 0.1\n",
    "lr = LogisticRegression(penalty='l2', C=100, class_weight={True: true_weight, False: 1 - true_weight})"
   ]
  },
  {
   "cell_type": "code",
   "execution_count": 23,
   "metadata": {
    "collapsed": false
   },
   "outputs": [
    {
     "data": {
      "text/plain": [
       "LogisticRegression(C=100, class_weight=None, dual=False, fit_intercept=True,\n",
       "          intercept_scaling=1, max_iter=100, multi_class='ovr', n_jobs=1,\n",
       "          penalty='l1', random_state=None, solver='liblinear', tol=0.0001,\n",
       "          verbose=0, warm_start=False)"
      ]
     },
     "execution_count": 23,
     "metadata": {},
     "output_type": "execute_result"
    }
   ],
   "source": [
    "lr.fit(X_train, y_train)"
   ]
  },
  {
   "cell_type": "code",
   "execution_count": 23,
   "metadata": {
    "collapsed": false
   },
   "outputs": [
    {
     "name": "stdout",
     "output_type": "stream",
     "text": [
      "Train score: 0.25\n",
      "Testing score:  0.25\n",
      "Training confusion matrix:\n",
      "[[12882 86381]\n",
      " [  562 15780]]\n",
      "Train False positive rate: 0.04\n",
      "Test confusion matrix:\n",
      "[[ 3298 21569]\n",
      " [  142  3893]]\n",
      "Test False positive rate: 0.04\n",
      "********************************************************************************\n",
      "Train score: 0.23\n",
      "Testing score:  0.23\n",
      "Training confusion matrix:\n",
      "[[10237 89026]\n",
      " [  412 15930]]\n",
      "Train False positive rate: 0.04\n",
      "Test confusion matrix:\n",
      "[[ 2648 22219]\n",
      " [  108  3927]]\n",
      "Test False positive rate: 0.04\n",
      "********************************************************************************\n",
      "Train score: 0.21\n",
      "Testing score:  0.21\n",
      "Training confusion matrix:\n",
      "[[ 8557 90706]\n",
      " [  315 16027]]\n",
      "Train False positive rate: 0.04\n",
      "Test confusion matrix:\n",
      "[[ 2201 22666]\n",
      " [   86  3949]]\n",
      "Test False positive rate: 0.04\n",
      "********************************************************************************\n",
      "Train score: 0.20\n",
      "Testing score:  0.20\n",
      "Training confusion matrix:\n",
      "[[ 6836 92427]\n",
      " [  221 16121]]\n",
      "Train False positive rate: 0.03\n",
      "Test confusion matrix:\n",
      "[[ 1763 23104]\n",
      " [   67  3968]]\n",
      "Test False positive rate: 0.04\n",
      "********************************************************************************\n",
      "Train score: 0.19\n",
      "Testing score:  0.19\n",
      "Training confusion matrix:\n",
      "[[ 5586 93677]\n",
      " [  187 16155]]\n",
      "Train False positive rate: 0.03\n",
      "Test confusion matrix:\n",
      "[[ 1466 23401]\n",
      " [   58  3977]]\n",
      "Test False positive rate: 0.04\n",
      "********************************************************************************\n",
      "Train score: 0.18\n",
      "Testing score:  0.18\n",
      "Training confusion matrix:\n",
      "[[ 4427 94836]\n",
      " [  132 16210]]\n",
      "Train False positive rate: 0.03\n",
      "Test confusion matrix:\n",
      "[[ 1147 23720]\n",
      " [   43  3992]]\n",
      "Test False positive rate: 0.04\n",
      "********************************************************************************\n"
     ]
    }
   ],
   "source": [
    "for false_weight in [15, 16, 17, 18, 19, 20]:\n",
    "    lr = LogisticRegression(penalty='l2', C=100, class_weight={False: false_weight})\n",
    "    lr.fit(X_train, y_train)\n",
    "    output_confusion_matrices(lr, X_train, y_train, X_test, y_test)"
   ]
  },
  {
   "cell_type": "code",
   "execution_count": null,
   "metadata": {
    "collapsed": false
   },
   "outputs": [
    {
     "name": "stdout",
     "output_type": "stream",
     "text": [
      "################################################################################\n",
      "Training with l2 regularization, c = 0.01, class weight = 0.00:1.00\n",
      "Train score: 0.14\n",
      "Testing score:  0.14\n",
      "Train False positive rate: nan\n",
      "\n",
      "Test False positive rate: nan\n",
      "################################################################################\n",
      "Training with l2 regularization, c = 0.01, class weight = 0.10:0.90\n",
      "Train score: 0.43\n",
      "Testing score:  0.43\n",
      "Train False positive rate: 0.07\n",
      "\n",
      "Test False positive rate: 0.07\n",
      "################################################################################\n",
      "Training with l2 regularization, c = 0.01, class weight = 0.20:0.80\n",
      "Train score: 0.76\n",
      "Testing score:  0.76\n",
      "Train False positive rate: 0.11"
     ]
    }
   ],
   "source": [
    "results = {}\n",
    "reg_type = 'l2'\n",
    "c_val = 1\n",
    "for c_val in np.arange(0.01, 1.11, 0.1):\n",
    "    for true_weight in np.arange(0, 0.6, 0.1):\n",
    "        print \"#\" * 80\n",
    "        print \"Training with %s regularization, c = %.2f, class weight = %.2f:%.2f\" %(reg_type, c_val, true_weight, 1-true_weight)\n",
    "        c_weight = {True: true_weight, False: 1 - true_weight}\n",
    "        lr = LogisticRegression(penalty='l2', C=1, class_weight={True: true_weight, False: 1 - true_weight})\n",
    "        lr.fit(X_train, y_train)\n",
    "        results[true_weight] = output_confusion_matrices(lr, X_train, y_train, X_test, y_test)"
   ]
  },
  {
   "cell_type": "code",
   "execution_count": null,
   "metadata": {
    "collapsed": true
   },
   "outputs": [],
   "source": []
  },
  {
   "cell_type": "code",
   "execution_count": 25,
   "metadata": {
    "collapsed": false
   },
   "outputs": [
    {
     "name": "stdout",
     "output_type": "stream",
     "text": [
      "[(0.8392, 'purpose_small_business'), (0.8335, 'home_ownership_NONE'), (0.7725, 'home_ownership_MORTGAGE'), (0.7012, 'home_ownership_OWN'), (0.6631, 'home_ownership_RENT'), (0.5821, 'purpose_educational'), (0.4585, 'home_ownership_OTHER'), (0.4203, 'purpose_renewable_energy'), (0.3293, 'purpose_medical'), (0.3081, 'verification_status_Source Verified'), (0.2774, 'purpose_other'), (0.2653, 'verification_status_Not Verified'), (0.2641, 'purpose_moving'), (0.2064, 'purpose_home_improvement'), (0.2063, 'purpose_vacation'), (0.2004, 'purpose_house'), (0.1944, 'verification_status_Verified'), (0.1157, 'purpose_wedding'), (0.1038, 'purpose_debt_consolidation'), (0.0917, 'inq_last_6mths'), (0.0836, 'int_rate'), (0.0418, 'purpose_credit_card'), (0.0336, 'purpose_car'), (0.0202, 'open_acc'), (0.0168, 'dti'), (0.0109, 'total_acc'), (0.009, 'purpose_major_purchase'), (0.0084, 'delinq_2yrs'), (0.0078, 'emp_length'), (0.0042, 'fico'), (0.001, 'installment'), (0.0009, 'revol_util'), (0.0002, 'months_since_fst_credit'), (0.0, 'revol_bal'), (0.0, 'loan_amnt'), (0.0, 'annual_inc')]\n"
     ]
    }
   ],
   "source": [
    "\n",
    "print sorted(zip(map(lambda x: round(x, 4), np.abs(lr.coef_[0])), X.columns), \n",
    "             reverse=True)"
   ]
  },
  {
   "cell_type": "markdown",
   "metadata": {},
   "source": [
    "# Random Forest"
   ]
  },
  {
   "cell_type": "code",
   "execution_count": 80,
   "metadata": {
    "collapsed": false
   },
   "outputs": [],
   "source": [
    "rfc = RandomForestClassifier(n_estimators=150, max_features=None, max_depth=20,\n",
    "                             n_jobs=4, min_samples_split=10, class_weight={True: 0.1, False: 0.9})"
   ]
  },
  {
   "cell_type": "code",
   "execution_count": 81,
   "metadata": {
    "collapsed": false
   },
   "outputs": [
    {
     "data": {
      "text/plain": [
       "RandomForestClassifier(bootstrap=True, class_weight={False: 0.9, True: 0.1},\n",
       "            criterion='gini', max_depth=20, max_features=None,\n",
       "            max_leaf_nodes=None, min_samples_leaf=1, min_samples_split=10,\n",
       "            min_weight_fraction_leaf=0.0, n_estimators=150, n_jobs=4,\n",
       "            oob_score=False, random_state=None, verbose=0,\n",
       "            warm_start=False)"
      ]
     },
     "execution_count": 81,
     "metadata": {},
     "output_type": "execute_result"
    }
   ],
   "source": [
    "rfc.fit(X_train, y_train)"
   ]
  },
  {
   "cell_type": "code",
   "execution_count": 82,
   "metadata": {
    "collapsed": false
   },
   "outputs": [
    {
     "name": "stdout",
     "output_type": "stream",
     "text": [
      "[(0.1436, 'int_rate'), (0.0981, 'dti'), (0.0934, 'annual_inc'), (0.0919, 'revol_bal'), (0.089, 'months_since_fst_credit'), (0.0876, 'revol_util'), (0.0676, 'installment'), (0.0649, 'total_acc'), (0.0486, 'fico'), (0.0473, 'open_acc'), (0.0353, 'emp_length'), (0.0293, 'loan_amnt'), (0.0192, 'inq_last_6mths'), (0.0114, 'delinq_2yrs'), (0.0076, 'purpose_credit_card'), (0.006, 'verification_status_Source Verified'), (0.0056, 'home_ownership_OWN'), (0.0055, 'verification_status_Verified'), (0.0055, 'purpose_debt_consolidation'), (0.0053, 'verification_status_Not Verified'), (0.0051, 'home_ownership_MORTGAGE'), (0.005, 'home_ownership_RENT'), (0.0049, 'purpose_small_business'), (0.0047, 'purpose_home_improvement'), (0.0042, 'purpose_other'), (0.0029, 'purpose_major_purchase'), (0.0021, 'purpose_wedding'), (0.0018, 'purpose_car'), (0.0017, 'purpose_medical'), (0.0014, 'purpose_vacation'), (0.0014, 'purpose_moving'), (0.0011, 'purpose_house'), (0.0004, 'purpose_renewable_energy'), (0.0003, 'purpose_educational'), (0.0001, 'home_ownership_OTHER'), (0.0, 'home_ownership_NONE')]\n"
     ]
    }
   ],
   "source": [
    "print sorted(zip(map(lambda x: round(x, 4), rfc.feature_importances_), X.columns), \n",
    "             reverse=True)"
   ]
  },
  {
   "cell_type": "code",
   "execution_count": 83,
   "metadata": {
    "collapsed": false
   },
   "outputs": [
    {
     "name": "stdout",
     "output_type": "stream",
     "text": [
      "1.0\n",
      "0.858987578284\n",
      "0.0149253731343\n",
      "0.86196408483\n"
     ]
    },
    {
     "data": {
      "text/plain": [
       "<matplotlib.axes._subplots.AxesSubplot at 0x1181cb090>"
      ]
     },
     "execution_count": 83,
     "metadata": {},
     "output_type": "execute_result"
    },
    {
     "data": {
      "image/png": "[encoded data removed]",
      "text/plain": [
       "<matplotlib.figure.Figure at 0x10cc3a1d0>"
      ]
     },
     "metadata": {},
     "output_type": "display_data"
    }
   ],
   "source": [
    "def explore(threshold, col_name):\n",
    "    loans_with_col = df[df[col_name] > threshold]\n",
    "    loans_without_col = df[df[col_name] < threshold]\n",
    "    print np.sum(loans_with_pr['loan_status']) / (np.sum(len(loans_with_col)) * 1.0)\n",
    "    print np.sum(loans_without_pr['loan_status']) / (np.sum(len(loans_without_col)) * 1.0)\n",
    "\n",
    "# explore(10, 'pub_rec')\n",
    "# explore(1, 'chargeoff_within_12_mths')\n",
    "\n",
    "# sns.distplot(df['mths_since_last_delinq'])\n"
   ]
  },
  {
   "cell_type": "code",
   "execution_count": 96,
   "metadata": {
    "collapsed": false
   },
   "outputs": [
    {
     "name": "stdout",
     "output_type": "stream",
     "text": [
      "Train score: 0.95\n",
      "Testing score:  0.80\n",
      "Training confusion matrix:\n",
      "[[93419  5844]\n",
      " [   45 16297]]\n",
      "[ 0.9411261  0.0588739]\n",
      "[ 0.00275364  0.99724636]\n",
      "Test confusion matrix:\n",
      "[[22187  2680]\n",
      " [ 3115   920]]\n",
      "[ 0.89222665  0.10777335]\n",
      "[ 0.77199504  0.22800496]\n"
     ]
    }
   ],
   "source": [
    "output_confusion_matrices(rfc, X_train, y_train, X_test, y_test)"
   ]
  },
  {
   "cell_type": "markdown",
   "metadata": {},
   "source": [
    "# Benchmark"
   ]
  },
  {
   "cell_type": "code",
   "execution_count": 30,
   "metadata": {
    "collapsed": false
   },
   "outputs": [],
   "source": [
    "imported_benchmark_data = cd.import_data(2012)\n",
    "imported_benchmark_data = imported_benchmark_data.set_index('id')\n",
    "\n",
    "imported_benchmark_data = imported_benchmark_data[imported_benchmark_data['term'] == 36]\n",
    "\n",
    "EXCLUDE_STATUSES = [\n",
    "    'Does not meet the credit policy. Status:Charged Off',\n",
    "    'Does not meet the credit policy. Status:Fully Paid'\n",
    "]\n",
    "\n",
    "imported_benchmark_data = imported_benchmark_data[imported_benchmark_data['loan_status'] != 'Does not meet the credit policy. Status:Charged Off']\n",
    "imported_benchmark_data = imported_benchmark_data[imported_benchmark_data['loan_status'] != 'Does not meet the credit policy. Status:Fully Paid']\n",
    "imported_benchmark_data.groupby('loan_status').size()\n",
    "\n",
    "imported_benchmark_data = imported_benchmark_data[imported_benchmark_data['loan_status'] != \"Current\"]"
   ]
  },
  {
   "cell_type": "code",
   "execution_count": 31,
   "metadata": {
    "collapsed": false
   },
   "outputs": [
    {
     "name": "stdout",
     "output_type": "stream",
     "text": [
      "Benchmark for all non-current, 36-month, loans: 1.08\n"
     ]
    }
   ],
   "source": [
    "benchmark_data = imported_benchmark_data\n",
    "benchmark_data['total_return'] =  (benchmark_data['total_pymnt'] - \n",
    "                                   benchmark_data['collection_recovery_fee']) / benchmark_data['loan_amnt']\n",
    "\n",
    "def total_return_for_grade(df, grade):\n",
    "    matching_loans = df[df['grade'] == grade]\n",
    "    return np.average(matching_loans['total_return'])\n",
    "\n",
    "def total_return_for_grades(df, grades):\n",
    "    total_returns = []\n",
    "\n",
    "    for grade in grades:\n",
    "        total_returns.append(total_return_for_grade(df, grade))\n",
    "\n",
    "    return np.average(total_returns)\n",
    "\n",
    "print \"Benchmark for all non-current, 36-month, loans: %.2f\" % total_return_for_grades(benchmark_data, [\"A\", \"B\", \"C\"])"
   ]
  },
  {
   "cell_type": "code",
   "execution_count": 33,
   "metadata": {
    "collapsed": false,
    "scrolled": true
   },
   "outputs": [],
   "source": [
    "pibd = prepare_df_for_prediction(imported_benchmark_data)\n",
    "benchmark_X, benchmark_y = get_X_y(pibd)\n",
    "\n",
    "#benchmark_X.drop('home_ownership_ANY', axis=1, inplace=1)\n",
    "benchmark_X.drop('total_return', axis=1, inplace=1)\n",
    "\n",
    "for col in set(X_train.columns).difference(set(benchmark_X.columns)):\n",
    "    benchmark_X[col] = np.zeros((len(benchmark_X), 1))"
   ]
  },
  {
   "cell_type": "code",
   "execution_count": 34,
   "metadata": {
    "collapsed": true
   },
   "outputs": [],
   "source": [
    "predictions = lr.predict(benchmark_X)"
   ]
  },
  {
   "cell_type": "code",
   "execution_count": 39,
   "metadata": {
    "collapsed": false
   },
   "outputs": [
    {
     "name": "stdout",
     "output_type": "stream",
     "text": [
      "Benchmark for all non-current, 36-month, loans: 1.09\n",
      "grade\n",
      "A    3425\n",
      "B     276\n",
      "C      64\n",
      "D      12\n",
      "G       1\n",
      "dtype: int64\n"
     ]
    }
   ],
   "source": [
    "indices = imported_benchmark_data[predictions == 1].index\n",
    "good_loans = imported_benchmark_data.ix[indices]\n",
    "print \"Benchmark for all non-current, 36-month, loans: %.2f\" % total_return_for_grades(good_loans, [\"A\", \"B\", \"C\"])\n",
    "\n",
    "print good_loans.groupby('grade').size()"
   ]
  },
  {
   "cell_type": "code",
   "execution_count": 36,
   "metadata": {
    "collapsed": false,
    "scrolled": true
   },
   "outputs": [
    {
     "name": "stdout",
     "output_type": "stream",
     "text": [
      "Train score: 0.18\n",
      "Training confusion matrix:\n",
      "[[ 3663 95335]\n",
      " [  115 17207]]\n",
      "[ 0.03700075  0.96299925]\n",
      "[ 0.00663896  0.99336104]\n"
     ]
    }
   ],
   "source": [
    "print \"Train score: %.2f\" % lr.score(benchmark_X, pibd['loan_status'])\n",
    "cm_benchmark = confusion_matrix(pibd['loan_status'], lr.predict(benchmark_X), labels=[True, False])\n",
    "\n",
    "print \"Training confusion matrix:\"\n",
    "print cm_benchmark\n",
    "\n",
    "print cm_benchmark[0,:] * 1.0 / np.sum(benchmark_y)\n",
    "print cm_benchmark[1,:] * 1.0 / (len(benchmark_y) - np.sum(benchmark_y))"
   ]
  },
  {
   "cell_type": "code",
   "execution_count": null,
   "metadata": {
    "collapsed": false
   },
   "outputs": [],
   "source": [
    "benchmark_X.columns"
   ]
  },
  {
   "cell_type": "code",
   "execution_count": null,
   "metadata": {
    "collapsed": true
   },
   "outputs": [],
   "source": []
  }
 ],
 "metadata": {
  "kernelspec": {
   "display_name": "Python 2",
   "language": "python",
   "name": "python2"
  },
  "language_info": {
   "codemirror_mode": {
    "name": "ipython",
    "version": 2
   },
   "file_extension": ".py",
   "mimetype": "text/x-python",
   "name": "python",
   "nbconvert_exporter": "python",
   "pygments_lexer": "ipython2",
   "version": "2.7.11"
  }
 },
 "nbformat": 4,
 "nbformat_minor": 0
}
