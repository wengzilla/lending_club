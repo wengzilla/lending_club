{
 "cells": [
  {
   "cell_type": "code",
   "execution_count": 30,
   "metadata": {
    "collapsed": false
   },
   "outputs": [],
   "source": [
    "from __future__ import division\n",
    "import pandas as pd\n",
    "import numpy as np\n",
    "import matplotlib.pyplot as plt\n",
    "from sklearn.ensemble import RandomForestClassifier\n",
    "from sklearn.cross_validation import train_test_split\n",
    "from sklearn.svm import SVC\n",
    "from sklearn.metrics import confusion_matrix\n",
    "import util\n",
    "%matplotlib inline"
   ]
  },
  {
   "cell_type": "code",
   "execution_count": 34,
   "metadata": {
    "collapsed": true
   },
   "outputs": [],
   "source": [
    "def import_data(year, nrows=None):\n",
    "    fname = '../LoanStats3c.csv'\n",
    "    \n",
    "    if nrows:\n",
    "        df = pd.read_csv(fname, skiprows=1, nrows=nrows)\n",
    "    else:\n",
    "        df = pd.read_csv(fname, skiprows=1)\n",
    "    return df"
   ]
  },
  {
   "cell_type": "code",
   "execution_count": 32,
   "metadata": {
    "collapsed": false,
    "scrolled": true
   },
   "outputs": [
    {
     "ename": "TypeError",
     "evalue": "not all arguments converted during string formatting",
     "output_type": "error",
     "traceback": [
      "\u001b[0;31m---------------------------------------------------------------------------\u001b[0m",
      "\u001b[0;31mTypeError\u001b[0m                                 Traceback (most recent call last)",
      "\u001b[0;32m<ipython-input-32-ae303bf41068>\u001b[0m in \u001b[0;36m<module>\u001b[0;34m()\u001b[0m\n\u001b[0;32m----> 1\u001b[0;31m \u001b[0mdf\u001b[0m \u001b[0;34m=\u001b[0m \u001b[0mimport_data\u001b[0m\u001b[0;34m(\u001b[0m\u001b[0;36m2014\u001b[0m\u001b[0;34m)\u001b[0m\u001b[0;34m\u001b[0m\u001b[0m\n\u001b[0m",
      "\u001b[0;32m<ipython-input-31-6834da88d711>\u001b[0m in \u001b[0;36mimport_data\u001b[0;34m(year, nrows)\u001b[0m\n\u001b[1;32m      1\u001b[0m \u001b[0;32mdef\u001b[0m \u001b[0mimport_data\u001b[0m\u001b[0;34m(\u001b[0m\u001b[0myear\u001b[0m\u001b[0;34m,\u001b[0m \u001b[0mnrows\u001b[0m\u001b[0;34m=\u001b[0m\u001b[0mNone\u001b[0m\u001b[0;34m)\u001b[0m\u001b[0;34m:\u001b[0m\u001b[0;34m\u001b[0m\u001b[0m\n\u001b[0;32m----> 2\u001b[0;31m     \u001b[0mfname\u001b[0m \u001b[0;34m=\u001b[0m \u001b[0;34m'../LoanStats3c.csv'\u001b[0m \u001b[0;34m%\u001b[0m\u001b[0myear\u001b[0m\u001b[0;34m\u001b[0m\u001b[0m\n\u001b[0m\u001b[1;32m      3\u001b[0m \u001b[0;34m\u001b[0m\u001b[0m\n\u001b[1;32m      4\u001b[0m     \u001b[0;32mif\u001b[0m \u001b[0mnrows\u001b[0m\u001b[0;34m:\u001b[0m\u001b[0;34m\u001b[0m\u001b[0m\n\u001b[1;32m      5\u001b[0m         \u001b[0mdf\u001b[0m \u001b[0;34m=\u001b[0m \u001b[0mpd\u001b[0m\u001b[0;34m.\u001b[0m\u001b[0mread_csv\u001b[0m\u001b[0;34m(\u001b[0m\u001b[0mfname\u001b[0m\u001b[0;34m,\u001b[0m \u001b[0mskiprows\u001b[0m\u001b[0;34m=\u001b[0m\u001b[0;36m1\u001b[0m\u001b[0;34m,\u001b[0m \u001b[0mnrows\u001b[0m\u001b[0;34m=\u001b[0m\u001b[0mnrows\u001b[0m\u001b[0;34m)\u001b[0m\u001b[0;34m\u001b[0m\u001b[0m\n",
      "\u001b[0;31mTypeError\u001b[0m: not all arguments converted during string formatting"
     ]
    }
   ],
   "source": [
    "df = import_data('XXXX') # not sure what year this is"
   ]
  },
  {
   "cell_type": "code",
   "execution_count": 33,
   "metadata": {
    "collapsed": true
   },
   "outputs": [],
   "source": [
    "df.replace('n/a', np.nan,inplace=True)"
   ]
  },
  {
   "cell_type": "code",
   "execution_count": 5,
   "metadata": {
    "collapsed": false
   },
   "outputs": [],
   "source": [
    "def conv_loan_status(val):\n",
    "    if pd.isnull(val):\n",
    "        return val\n",
    "    else:\n",
    "        return (val.find('Fully Paid') > -1)\n",
    "    \n",
    "def binarized_loan_status(category, df):\n",
    "    return df['loan_status'].apply(conv_loan_status)\n",
    "\n",
    "def cleaned_df(features, df):\n",
    "    feature_df = df[features].dropna(axis=0)\n",
    "    return feature_df    "
   ]
  },
  {
   "cell_type": "code",
   "execution_count": 6,
   "metadata": {
    "collapsed": false
   },
   "outputs": [],
   "source": [
    "df['emp_length'].replace(to_replace='[^0-9]+', value='', inplace=True, regex=True)\n",
    "df['emp_length'].fillna(0, axis=0, inplace=True)\n",
    "df['emp_length'] = df['emp_length'].astype(int)"
   ]
  },
  {
   "cell_type": "code",
   "execution_count": 7,
   "metadata": {
    "collapsed": false
   },
   "outputs": [
    {
     "data": {
      "text/plain": [
       "0    14.45\n",
       "1     6.79\n",
       "2    23.45\n",
       "3     9.54\n",
       "4    21.75\n",
       "Name: dti, dtype: float64"
      ]
     },
     "execution_count": 7,
     "metadata": {},
     "output_type": "execute_result"
    }
   ],
   "source": [
    "df['dti'].head()"
   ]
  },
  {
   "cell_type": "code",
   "execution_count": 8,
   "metadata": {
    "collapsed": true
   },
   "outputs": [],
   "source": [
    "features = [\n",
    "    'loan_amnt',\n",
    "    'int_rate',\n",
    "    'dti',\n",
    "    'annual_inc',\n",
    "    'avg_cur_bal',\n",
    "    'installment', \n",
    "    'emp_length', \n",
    "    'purpose', #binarize\n",
    "    'pub_rec_bankruptcies',\n",
    "    'delinq_2yrs', # fill na, to int\n",
    "    'grade', #binarize\n",
    "    'home_ownership', # binarize\n",
    "    'loan_status'\n",
    "]"
   ]
  },
  {
   "cell_type": "code",
   "execution_count": 9,
   "metadata": {
    "collapsed": false
   },
   "outputs": [],
   "source": [
    "# Grab df with only the features we want. Drop na\n",
    "df_features = df[features]\n",
    "df_features_noncurr = df_features[df_features['loan_status'] != 'Current']\n",
    "df_features_noncurr = df_features_noncurr.dropna(axis=0)"
   ]
  },
  {
   "cell_type": "code",
   "execution_count": 10,
   "metadata": {
    "collapsed": false,
    "scrolled": true
   },
   "outputs": [
    {
     "name": "stdout",
     "output_type": "stream",
     "text": [
      "set([0, 1, 2, 3, 4, 5, 6, 7, 8, 9, 10]) emp_length\n",
      "set(['debt_consolidation', 'renewable_energy', 'house', 'medical', 'wedding', 'vacation', 'credit_card', 'educational', 'other', 'moving', 'car', 'small_business', 'major_purchase', 'home_improvement']) purpose\n",
      "set([0.0, 1.0, 2.0, 3.0, 4.0, 5.0, 7.0]) pub_rec_bankruptcies\n",
      "set(['A', 'C', 'B', 'E', 'D', 'G', 'F']) grade\n",
      "set(['OWN', 'RENT', 'MORTGAGE']) home_ownership\n",
      "set(['Late (31-120 days)', 'Default', 'Fully Paid', 'Late (16-30 days)', 'Charged Off', 'In Grace Period']) loan_status\n"
     ]
    }
   ],
   "source": [
    "for i in features:\n",
    "    s = set(df_features_noncurr[i])\n",
    "    if len(s) < 20:\n",
    "        print s, i"
   ]
  },
  {
   "cell_type": "code",
   "execution_count": 11,
   "metadata": {
    "collapsed": false
   },
   "outputs": [],
   "source": [
    "util.binarize_category('purpose', df_features_noncurr)"
   ]
  },
  {
   "cell_type": "code",
   "execution_count": 12,
   "metadata": {
    "collapsed": false
   },
   "outputs": [],
   "source": [
    "util.binarize_category('home_ownership', df_features_noncurr)"
   ]
  },
  {
   "cell_type": "code",
   "execution_count": 13,
   "metadata": {
    "collapsed": false
   },
   "outputs": [],
   "source": [
    "def map_grade(g):\n",
    "    grades = ['A', 'B', 'C', 'D', 'E', 'F', 'G']\n",
    "    return grades.index(g)\n",
    "\n",
    "df_features_noncurr['grade'] = df_features_noncurr['grade'].apply(map_grade)"
   ]
  },
  {
   "cell_type": "code",
   "execution_count": 14,
   "metadata": {
    "collapsed": false
   },
   "outputs": [],
   "source": [
    "df_features_noncurr.drop(['purpose', 'home_ownership'], axis=1, inplace=True)"
   ]
  },
  {
   "cell_type": "code",
   "execution_count": 15,
   "metadata": {
    "collapsed": false
   },
   "outputs": [],
   "source": [
    "ys = df_features_noncurr['loan_status'].apply(conv_loan_status)\n",
    "df_features_noncurr.drop(['loan_status'], axis=1, inplace=True)"
   ]
  },
  {
   "cell_type": "code",
   "execution_count": 16,
   "metadata": {
    "collapsed": false
   },
   "outputs": [],
   "source": [
    "df_features_noncurr['int_rate'] = df_features_noncurr['int_rate'].apply(util.clean_percent)"
   ]
  },
  {
   "cell_type": "code",
   "execution_count": 17,
   "metadata": {
    "collapsed": false
   },
   "outputs": [],
   "source": [
    "y = ys\n",
    "X = df_features_noncurr"
   ]
  },
  {
   "cell_type": "code",
   "execution_count": 18,
   "metadata": {
    "collapsed": false
   },
   "outputs": [],
   "source": [
    "to_norm_features = [\n",
    "    'loan_amnt',\n",
    "    'int_rate',\n",
    "    'dti',\n",
    "    'annual_inc',\n",
    "    'avg_cur_bal',\n",
    "    'installment',\n",
    "    'emp_length',\n",
    "    'pub_rec_bankruptcies',\n",
    "    'delinq_2yrs',\n",
    "    'grade'\n",
    "]\n",
    "for f in to_norm_features:\n",
    "    util.normalize_column(f, X, inplace=True)"
   ]
  },
  {
   "cell_type": "code",
   "execution_count": 19,
   "metadata": {
    "collapsed": true
   },
   "outputs": [],
   "source": [
    "def normalize_features(feats, df):\n",
    "    for f in feats:\n",
    "        util.normalize_column(f, df, inplace=True)"
   ]
  },
  {
   "cell_type": "code",
   "execution_count": 20,
   "metadata": {
    "collapsed": false
   },
   "outputs": [
    {
     "data": {
      "text/plain": [
       "SVC(C=1.0, cache_size=200, class_weight={False: 0.7, True: 0.3}, coef0=0.0,\n",
       "  decision_function_shape=None, degree=3, gamma='auto', kernel='rbf',\n",
       "  max_iter=-1, probability=False, random_state=1, shrinking=True,\n",
       "  tol=0.001, verbose=False)"
      ]
     },
     "execution_count": 20,
     "metadata": {},
     "output_type": "execute_result"
    }
   ],
   "source": [
    "X_train, X_test, y_train, y_test = train_test_split(X, y, test_size=0.20, random_state=37)\n",
    "weights = {True: 0.3, False: 0.7}\n",
    "svc = SVC(class_weight=weights, random_state=1)\n",
    "svc.fit(X_train, y_train)"
   ]
  },
  {
   "cell_type": "code",
   "execution_count": 22,
   "metadata": {
    "collapsed": false
   },
   "outputs": [
    {
     "name": "stdout",
     "output_type": "stream",
     "text": [
      "Train score: 0.57\n",
      "Testing score:  0.57\n",
      "Training confusion matrix:\n",
      "[[ 0.80989632  0.56937484]\n",
      " [ 0.19010368  0.43062516]]\n",
      "Test confusion matrix:\n",
      "[[ 0.80590717  0.56947391]\n",
      " [ 0.19409283  0.43052609]]\n"
     ]
    },
    {
     "name": "stderr",
     "output_type": "stream",
     "text": [
      "/Library/Python/2.7/site-packages/numpy/core/fromnumeric.py:2652: VisibleDeprecationWarning: `rank` is deprecated; use the `ndim` attribute or function instead. To find the rank of a matrix see `numpy.linalg.matrix_rank`.\n",
      "  VisibleDeprecationWarning)\n"
     ]
    }
   ],
   "source": [
    "print \"Train score: %.2f\" %svc.score(X_train, y_train)\n",
    "cm_train = confusion_matrix(y_train, svc.predict(X_train), labels=[True, False])\n",
    "\n",
    "print \"Testing score:  %.2f\" %svc.score(X_test, y_test)\n",
    "cm_test = confusion_matrix(y_test, svc.predict(X_test), labels=[True, False])\n",
    "\n",
    "\n",
    "print \"Training confusion matrix:\"\n",
    "print cm_train / np.sum(cm_train, axis=0)\n",
    "print \"Test confusion matrix:\"\n",
    "print cm_test / np.sum(cm_test, axis=0)"
   ]
  },
  {
   "cell_type": "code",
   "execution_count": null,
   "metadata": {
    "collapsed": true
   },
   "outputs": [],
   "source": [
    "# Label true = fullpaid, false = late or default\n",
    "'''\n",
    "X_train, X_test, y_train, y_test = train_test_split(X, y, test_size=0.20, random_state=37)\n",
    "rf_regressor = RandomForestClassifier(n_estimators=100, min_samples_split=10, max_depth=20, max_features=20, n_jobs=-1)\n",
    "rf_regressor.fit(X_train, y_train)\n",
    "print \"Train score: %.2f\" %rf_regressor.score(X_train, y_train)\n",
    "cm_train = confusion_matrix(y_train, rf_regressor.predict(X_train), labels=[True, False])\n",
    "\n",
    "print \"Testing score:  %.2f\" %rf_regressor.score(X_test, y_test)\n",
    "cm_test = confusion_matrix(y_test, rf_regressor.predict(X_test), labels=[True, False])\n",
    "\n",
    "\n",
    "print \"Training confusion matrix:\"\n",
    "print cm_train / np.sum(cm_train, axis=0)\n",
    "print \"Test confusion matrix:\"\n",
    "print cm_test / np.sum(cm_test, axis=0)\n",
    "'''"
   ]
  },
  {
   "cell_type": "code",
   "execution_count": 39,
   "metadata": {
    "collapsed": false
   },
   "outputs": [
    {
     "name": "stdout",
     "output_type": "stream",
     "text": [
      "loan_status\n",
      "Charged Off                                            0.135517\n",
      "Default                                                0.000072\n",
      "Does not meet the credit policy. Status:Charged Off    0.018305\n",
      "Does not meet the credit policy. Status:Fully Paid     0.047818\n",
      "Fully Paid                                             0.797037\n",
      "In Grace Period                                        0.000481\n",
      "Late (16-30 days)                                      0.000192\n",
      "Late (31-120 days)                                     0.000577\n",
      "dtype: float64\n"
     ]
    }
   ],
   "source": [
    "df = pd.read_csv('../LoanStats3a.csv', skiprows=1)\n",
    "g = df[df['loan_status'] != 'Current'].groupby('loan_status')\n",
    "print g.size() / (np.sum(g.size()))"
   ]
  },
  {
   "cell_type": "code",
   "execution_count": 38,
   "metadata": {
    "collapsed": false
   },
   "outputs": [
    {
     "name": "stdout",
     "output_type": "stream",
     "text": [
      "loan_status\n",
      "Charged Off           0.172470\n",
      "Default               0.000297\n",
      "Fully Paid            0.810685\n",
      "In Grace Period       0.006668\n",
      "Late (16-30 days)     0.001937\n",
      "Late (31-120 days)    0.007944\n",
      "dtype: float64\n"
     ]
    }
   ],
   "source": []
  },
  {
   "cell_type": "code",
   "execution_count": 40,
   "metadata": {
    "collapsed": false
   },
   "outputs": [
    {
     "data": {
      "text/plain": [
       "SVC(C=1.0, cache_size=200, class_weight={False: 0.7, True: 0.3}, coef0=0.0,\n",
       "  decision_function_shape=None, degree=3, gamma='auto', kernel='rbf',\n",
       "  max_iter=-1, probability=False, random_state=1, shrinking=True,\n",
       "  tol=0.001, verbose=False)"
      ]
     },
     "execution_count": 40,
     "metadata": {},
     "output_type": "execute_result"
    }
   ],
   "source": [
    "svc"
   ]
  },
  {
   "cell_type": "code",
   "execution_count": 41,
   "metadata": {
    "collapsed": true
   },
   "outputs": [],
   "source": [
    "df_train = pd.read_csv('../LoanStats3b.csv', skiprows=1)\n"
   ]
  },
  {
   "cell_type": "code",
   "execution_count": 47,
   "metadata": {
    "collapsed": false
   },
   "outputs": [],
   "source": [
    "df_train.replace('n/a', np.nan,inplace=True)\n",
    "df_train['int_rate'] = df_train['int_rate'].apply(util.clean_percent)\n"
   ]
  },
  {
   "cell_type": "code",
   "execution_count": 54,
   "metadata": {
    "collapsed": false
   },
   "outputs": [],
   "source": [
    "df_train['emp_length'].replace(to_replace='[^0-9]+', value='', inplace=True, regex=True)\n",
    "df_train['emp_length'].fillna(0, axis=0, inplace=True)\n",
    "df_train['emp_length'] = df_train['emp_length'].astype(int)"
   ]
  },
  {
   "cell_type": "code",
   "execution_count": 59,
   "metadata": {
    "collapsed": false
   },
   "outputs": [
    {
     "ename": "ValueError",
     "evalue": "nan is not in list",
     "output_type": "error",
     "traceback": [
      "\u001b[0;31m---------------------------------------------------------------------------\u001b[0m",
      "\u001b[0;31mValueError\u001b[0m                                Traceback (most recent call last)",
      "\u001b[0;32m<ipython-input-59-6b81e35a57d5>\u001b[0m in \u001b[0;36m<module>\u001b[0;34m()\u001b[0m\n\u001b[0;32m----> 1\u001b[0;31m \u001b[0mdf_train\u001b[0m\u001b[0;34m[\u001b[0m\u001b[0;34m'grade'\u001b[0m\u001b[0;34m]\u001b[0m\u001b[0;34m.\u001b[0m\u001b[0mapply\u001b[0m\u001b[0;34m(\u001b[0m\u001b[0;32mlambda\u001b[0m \u001b[0mx\u001b[0m\u001b[0;34m:\u001b[0m \u001b[0;34m[\u001b[0m\u001b[0;34m'A'\u001b[0m\u001b[0;34m,\u001b[0m \u001b[0;34m'B'\u001b[0m\u001b[0;34m,\u001b[0m \u001b[0;34m'C'\u001b[0m\u001b[0;34m,\u001b[0m \u001b[0;34m'D'\u001b[0m\u001b[0;34m,\u001b[0m \u001b[0;34m'E'\u001b[0m\u001b[0;34m,\u001b[0m \u001b[0;34m'F'\u001b[0m\u001b[0;34m,\u001b[0m \u001b[0;34m'G'\u001b[0m\u001b[0;34m]\u001b[0m\u001b[0;34m.\u001b[0m\u001b[0mindex\u001b[0m\u001b[0;34m(\u001b[0m\u001b[0mx\u001b[0m\u001b[0;34m)\u001b[0m\u001b[0;34m)\u001b[0m\u001b[0;34m\u001b[0m\u001b[0m\n\u001b[0m",
      "\u001b[0;32m/Library/Python/2.7/site-packages/pandas/core/series.pyc\u001b[0m in \u001b[0;36mapply\u001b[0;34m(self, func, convert_dtype, args, **kwds)\u001b[0m\n\u001b[1;32m   2167\u001b[0m             \u001b[0mvalues\u001b[0m \u001b[0;34m=\u001b[0m \u001b[0mlib\u001b[0m\u001b[0;34m.\u001b[0m\u001b[0mmap_infer\u001b[0m\u001b[0;34m(\u001b[0m\u001b[0mvalues\u001b[0m\u001b[0;34m,\u001b[0m \u001b[0mlib\u001b[0m\u001b[0;34m.\u001b[0m\u001b[0mTimestamp\u001b[0m\u001b[0;34m)\u001b[0m\u001b[0;34m\u001b[0m\u001b[0m\n\u001b[1;32m   2168\u001b[0m \u001b[0;34m\u001b[0m\u001b[0m\n\u001b[0;32m-> 2169\u001b[0;31m         \u001b[0mmapped\u001b[0m \u001b[0;34m=\u001b[0m \u001b[0mlib\u001b[0m\u001b[0;34m.\u001b[0m\u001b[0mmap_infer\u001b[0m\u001b[0;34m(\u001b[0m\u001b[0mvalues\u001b[0m\u001b[0;34m,\u001b[0m \u001b[0mf\u001b[0m\u001b[0;34m,\u001b[0m \u001b[0mconvert\u001b[0m\u001b[0;34m=\u001b[0m\u001b[0mconvert_dtype\u001b[0m\u001b[0;34m)\u001b[0m\u001b[0;34m\u001b[0m\u001b[0m\n\u001b[0m\u001b[1;32m   2170\u001b[0m         \u001b[0;32mif\u001b[0m \u001b[0mlen\u001b[0m\u001b[0;34m(\u001b[0m\u001b[0mmapped\u001b[0m\u001b[0;34m)\u001b[0m \u001b[0;32mand\u001b[0m \u001b[0misinstance\u001b[0m\u001b[0;34m(\u001b[0m\u001b[0mmapped\u001b[0m\u001b[0;34m[\u001b[0m\u001b[0;36m0\u001b[0m\u001b[0;34m]\u001b[0m\u001b[0;34m,\u001b[0m \u001b[0mSeries\u001b[0m\u001b[0;34m)\u001b[0m\u001b[0;34m:\u001b[0m\u001b[0;34m\u001b[0m\u001b[0m\n\u001b[1;32m   2171\u001b[0m             \u001b[0;32mfrom\u001b[0m \u001b[0mpandas\u001b[0m\u001b[0;34m.\u001b[0m\u001b[0mcore\u001b[0m\u001b[0;34m.\u001b[0m\u001b[0mframe\u001b[0m \u001b[0;32mimport\u001b[0m \u001b[0mDataFrame\u001b[0m\u001b[0;34m\u001b[0m\u001b[0m\n",
      "\u001b[0;32mpandas/src/inference.pyx\u001b[0m in \u001b[0;36mpandas.lib.map_infer (pandas/lib.c:62578)\u001b[0;34m()\u001b[0m\n",
      "\u001b[0;32m<ipython-input-59-6b81e35a57d5>\u001b[0m in \u001b[0;36m<lambda>\u001b[0;34m(x)\u001b[0m\n\u001b[0;32m----> 1\u001b[0;31m \u001b[0mdf_train\u001b[0m\u001b[0;34m[\u001b[0m\u001b[0;34m'grade'\u001b[0m\u001b[0;34m]\u001b[0m\u001b[0;34m.\u001b[0m\u001b[0mapply\u001b[0m\u001b[0;34m(\u001b[0m\u001b[0;32mlambda\u001b[0m \u001b[0mx\u001b[0m\u001b[0;34m:\u001b[0m \u001b[0;34m[\u001b[0m\u001b[0;34m'A'\u001b[0m\u001b[0;34m,\u001b[0m \u001b[0;34m'B'\u001b[0m\u001b[0;34m,\u001b[0m \u001b[0;34m'C'\u001b[0m\u001b[0;34m,\u001b[0m \u001b[0;34m'D'\u001b[0m\u001b[0;34m,\u001b[0m \u001b[0;34m'E'\u001b[0m\u001b[0;34m,\u001b[0m \u001b[0;34m'F'\u001b[0m\u001b[0;34m,\u001b[0m \u001b[0;34m'G'\u001b[0m\u001b[0;34m]\u001b[0m\u001b[0;34m.\u001b[0m\u001b[0mindex\u001b[0m\u001b[0;34m(\u001b[0m\u001b[0mx\u001b[0m\u001b[0;34m)\u001b[0m\u001b[0;34m)\u001b[0m\u001b[0;34m\u001b[0m\u001b[0m\n\u001b[0m",
      "\u001b[0;31mValueError\u001b[0m: nan is not in list"
     ]
    }
   ],
   "source": [
    "df_train['grade'].apply(lambda x: ['A', 'B', 'C', 'D', 'E', 'F', 'G'].index(x))"
   ]
  },
  {
   "cell_type": "code",
   "execution_count": 61,
   "metadata": {
    "collapsed": false
   },
   "outputs": [
    {
     "name": "stdout",
     "output_type": "stream",
     "text": [
      "set(['A', 'C', 'B', 'E', 'D', 'G', 'F'])\n",
      "loan_amnt\n",
      "int_rate\n",
      "dti\n",
      "annual_inc\n",
      "avg_cur_bal\n",
      "installment\n",
      "emp_length\n",
      "pub_rec_bankruptcies\n",
      "delinq_2yrs\n",
      "grade\n"
     ]
    }
   ],
   "source": [
    "def transform_df(df, features, normed_features, binarized_features):\n",
    "    feature_df = df[features]\n",
    "    feature_df = feature_df.dropna(axis=0)\n",
    "    print set(feature_df['grade'])\n",
    "    feature_df['grade'] = feature_df['grade'].apply(lambda x: ['A', 'B', 'C', 'D', 'E', 'F', 'G'].index(x))\n",
    "    \n",
    "    for i in normed_features:\n",
    "        print i\n",
    "        util.normalize_column(i, feature_df, inplace=True)\n",
    "    for f in binarized_features:\n",
    "        util.binarize_category(f, feature_df)\n",
    "        feature_df.drop(f, axis=1)\n",
    "    return feature_df\n",
    "\n",
    "bin_feats = ['purpose', 'home_ownership']\n",
    "df_feat = transform_df(df_train, features, to_norm_features, bin_feats)"
   ]
  },
  {
   "cell_type": "code",
   "execution_count": 68,
   "metadata": {
    "collapsed": false
   },
   "outputs": [],
   "source": [
    "df_feat.drop(bin_feats, axis=1, inplace=True)"
   ]
  },
  {
   "cell_type": "code",
   "execution_count": 71,
   "metadata": {
    "collapsed": false
   },
   "outputs": [],
   "source": [
    "samples = int(len(df_feat) * 0.2)\n",
    "sampled = df_feat.sample(n=samples)"
   ]
  },
  {
   "cell_type": "code",
   "execution_count": 72,
   "metadata": {
    "collapsed": false
   },
   "outputs": [
    {
     "ename": "AttributeError",
     "evalue": "predict_proba is not available when  probability=False",
     "output_type": "error",
     "traceback": [
      "\u001b[0;31m---------------------------------------------------------------------------\u001b[0m",
      "\u001b[0;31mAttributeError\u001b[0m                            Traceback (most recent call last)",
      "\u001b[0;32m<ipython-input-72-390b0c2adf74>\u001b[0m in \u001b[0;36m<module>\u001b[0;34m()\u001b[0m\n\u001b[0;32m----> 1\u001b[0;31m \u001b[0mpred_samps\u001b[0m \u001b[0;34m=\u001b[0m \u001b[0msvc\u001b[0m\u001b[0;34m.\u001b[0m\u001b[0mpredict_proba\u001b[0m\u001b[0;34m(\u001b[0m\u001b[0msamples\u001b[0m\u001b[0;34m[\u001b[0m\u001b[0;34m:\u001b[0m\u001b[0;36m5\u001b[0m\u001b[0;34m]\u001b[0m\u001b[0;34m)\u001b[0m\u001b[0;34m\u001b[0m\u001b[0m\n\u001b[0m\u001b[1;32m      2\u001b[0m \u001b[0;32mprint\u001b[0m \u001b[0mpred_samps\u001b[0m\u001b[0;34m\u001b[0m\u001b[0m\n",
      "\u001b[0;32m/Library/Python/2.7/site-packages/sklearn/svm/base.pyc\u001b[0m in \u001b[0;36mpredict_proba\u001b[0;34m(self)\u001b[0m\n\u001b[1;32m    608\u001b[0m         \u001b[0mdatasets\u001b[0m\u001b[0;34m.\u001b[0m\u001b[0;34m\u001b[0m\u001b[0m\n\u001b[1;32m    609\u001b[0m         \"\"\"\n\u001b[0;32m--> 610\u001b[0;31m         \u001b[0mself\u001b[0m\u001b[0;34m.\u001b[0m\u001b[0m_check_proba\u001b[0m\u001b[0;34m(\u001b[0m\u001b[0;34m)\u001b[0m\u001b[0;34m\u001b[0m\u001b[0m\n\u001b[0m\u001b[1;32m    611\u001b[0m         \u001b[0;32mreturn\u001b[0m \u001b[0mself\u001b[0m\u001b[0;34m.\u001b[0m\u001b[0m_predict_proba\u001b[0m\u001b[0;34m\u001b[0m\u001b[0m\n\u001b[1;32m    612\u001b[0m \u001b[0;34m\u001b[0m\u001b[0m\n",
      "\u001b[0;32m/Library/Python/2.7/site-packages/sklearn/svm/base.pyc\u001b[0m in \u001b[0;36m_check_proba\u001b[0;34m(self)\u001b[0m\n\u001b[1;32m    575\u001b[0m     \u001b[0;32mdef\u001b[0m \u001b[0m_check_proba\u001b[0m\u001b[0;34m(\u001b[0m\u001b[0mself\u001b[0m\u001b[0;34m)\u001b[0m\u001b[0;34m:\u001b[0m\u001b[0;34m\u001b[0m\u001b[0m\n\u001b[1;32m    576\u001b[0m         \u001b[0;32mif\u001b[0m \u001b[0;32mnot\u001b[0m \u001b[0mself\u001b[0m\u001b[0;34m.\u001b[0m\u001b[0mprobability\u001b[0m\u001b[0;34m:\u001b[0m\u001b[0;34m\u001b[0m\u001b[0m\n\u001b[0;32m--> 577\u001b[0;31m             raise AttributeError(\"predict_proba is not available when \"\n\u001b[0m\u001b[1;32m    578\u001b[0m                                  \" probability=False\")\n\u001b[1;32m    579\u001b[0m         \u001b[0;32mif\u001b[0m \u001b[0mself\u001b[0m\u001b[0;34m.\u001b[0m\u001b[0m_impl\u001b[0m \u001b[0;32mnot\u001b[0m \u001b[0;32min\u001b[0m \u001b[0;34m(\u001b[0m\u001b[0;34m'c_svc'\u001b[0m\u001b[0;34m,\u001b[0m \u001b[0;34m'nu_svc'\u001b[0m\u001b[0;34m)\u001b[0m\u001b[0;34m:\u001b[0m\u001b[0;34m\u001b[0m\u001b[0m\n",
      "\u001b[0;31mAttributeError\u001b[0m: predict_proba is not available when  probability=False"
     ]
    }
   ],
   "source": [
    "pred_samps = svc.predict_proba(samples[:5])\n",
    "print pred_samps"
   ]
  },
  {
   "cell_type": "code",
   "execution_count": 192,
   "metadata": {
    "collapsed": false
   },
   "outputs": [
    {
     "data": {
      "text/plain": [
       "grade\n",
       "-0.299476     4457\n",
       "-0.132810    10688\n",
       " 0.033857     8822\n",
       " 0.200524     4829\n",
       " 0.367190     2131\n",
       " 0.533857      966\n",
       " 0.700524      182\n",
       "dtype: int64"
      ]
     },
     "execution_count": 192,
     "metadata": {},
     "output_type": "execute_result"
    }
   ],
   "source": [
    "g = sampled.groupby('grade')\n",
    "g.size()"
   ]
  },
  {
   "cell_type": "code",
   "execution_count": 149,
   "metadata": {
    "collapsed": false
   },
   "outputs": [],
   "source": [
    "c_loans = g.get_group(0.033856894630950617)"
   ]
  },
  {
   "cell_type": "code",
   "execution_count": 150,
   "metadata": {
    "collapsed": false
   },
   "outputs": [
    {
     "data": {
      "text/plain": [
       "[0.36719022796428397,\n",
       " -0.13280977203571606,\n",
       " 0.70052356129761728,\n",
       " 0.20052356129761728,\n",
       " 0.53385689463095065,\n",
       " 0.033856894630950617,\n",
       " -0.29947643870238272]"
      ]
     },
     "execution_count": 150,
     "metadata": {},
     "output_type": "execute_result"
    }
   ],
   "source": [
    "g.groups.keys()"
   ]
  },
  {
   "cell_type": "code",
   "execution_count": 152,
   "metadata": {
    "collapsed": false
   },
   "outputs": [],
   "source": [
    "sample = c_loans.sample(n=1000)"
   ]
  },
  {
   "cell_type": "code",
   "execution_count": 154,
   "metadata": {
    "collapsed": false
   },
   "outputs": [],
   "source": [
    "sample_test = sample.drop('loan_status', axis=1)\n",
    "sample_test.drop(['home_ownership_OTHER', 'home_ownership_NONE'], axis=1, inplace=True)\n",
    "#X_train.drop(['purpose_educational'], axis=1, inplace=True)\n",
    "predictions = svc.predict(sample_test)"
   ]
  },
  {
   "cell_type": "code",
   "execution_count": 83,
   "metadata": {
    "collapsed": false
   },
   "outputs": [
    {
     "data": {
      "text/plain": [
       "Index([u'loan_amnt', u'int_rate', u'dti', u'annual_inc', u'avg_cur_bal',\n",
       "       u'installment', u'emp_length', u'pub_rec_bankruptcies', u'delinq_2yrs',\n",
       "       u'grade', u'purpose_debt_consolidation', u'purpose_renewable_energy',\n",
       "       u'purpose_house', u'purpose_medical', u'purpose_wedding',\n",
       "       u'purpose_vacation', u'purpose_credit_card', u'purpose_educational',\n",
       "       u'purpose_other', u'purpose_moving', u'purpose_car',\n",
       "       u'purpose_small_business', u'purpose_major_purchase',\n",
       "       u'purpose_home_improvement', u'home_ownership_OWN',\n",
       "       u'home_ownership_RENT', u'home_ownership_MORTGAGE'],\n",
       "      dtype='object')"
      ]
     },
     "execution_count": 83,
     "metadata": {},
     "output_type": "execute_result"
    }
   ],
   "source": [
    "X_train.columns"
   ]
  },
  {
   "cell_type": "code",
   "execution_count": 86,
   "metadata": {
    "collapsed": false
   },
   "outputs": [
    {
     "name": "stdout",
     "output_type": "stream",
     "text": [
      "set(['home_ownership_OTHER', 'home_ownership_NONE'])\n",
      "set(['purpose_educational'])\n"
     ]
    }
   ],
   "source": [
    "s_test = set(sample_test)\n",
    "col_train = set(X_train.columns)\n",
    "print s_test.difference(col_train)\n",
    "print col_train.difference(s_test)"
   ]
  },
  {
   "cell_type": "code",
   "execution_count": 95,
   "metadata": {
    "collapsed": false
   },
   "outputs": [
    {
     "data": {
      "text/plain": [
       "SVC(C=1.0, cache_size=200, class_weight={False: 0.7, True: 0.3}, coef0=0.0,\n",
       "  decision_function_shape=None, degree=3, gamma='auto', kernel='rbf',\n",
       "  max_iter=-1, probability=True, random_state=1, shrinking=True, tol=0.001,\n",
       "  verbose=False)"
      ]
     },
     "execution_count": 95,
     "metadata": {},
     "output_type": "execute_result"
    }
   ],
   "source": [
    "#sample_test.drop(['home_ownership_OTHER', 'home_ownership_NONE'], axis=1, inplace=True)\n",
    "#X_train.drop(['purpose_educational'], axis=1, inplace=True)\n",
    "#X_test.drop(['purpose_educational'], axis=1, inplace=True)\n",
    "svc = SVC(class_weight=weights, random_state=1, probability=True)\n",
    "svc.fit(X_train, y_train)"
   ]
  },
  {
   "cell_type": "code",
   "execution_count": 99,
   "metadata": {
    "collapsed": false
   },
   "outputs": [
    {
     "name": "stdout",
     "output_type": "stream",
     "text": [
      "Train score: 0.57\n",
      "Testing score:  0.57\n",
      "Training confusion matrix:\n",
      "[[ 0.80996594  0.57041569]\n",
      " [ 0.19003406  0.42958431]]\n",
      "Test confusion matrix:\n",
      "[[ 0.80636801  0.57043368]\n",
      " [ 0.19363199  0.42956632]]\n"
     ]
    }
   ],
   "source": [
    "print \"Train score: %.2f\" %svc.score(X_train, y_train)\n",
    "cm_train = confusion_matrix(y_train, svc.predict(X_train), labels=[True, False])\n",
    "\n",
    "print \"Testing score:  %.2f\" %svc.score(X_test, y_test)\n",
    "cm_test = confusion_matrix(y_test, svc.predict(X_test), labels=[True, False])\n",
    "\n",
    "\n",
    "print \"Training confusion matrix:\"\n",
    "print cm_train / np.sum(cm_train, axis=0)\n",
    "print \"Test confusion matrix:\"\n",
    "print cm_test / np.sum(cm_test, axis=0)"
   ]
  },
  {
   "cell_type": "code",
   "execution_count": 167,
   "metadata": {
    "collapsed": false
   },
   "outputs": [],
   "source": [
    "def predict_num(n, samples):\n",
    "    x = list(svc.predict_proba(samples[:n])) \n",
    "    x = map(lambda z: list(z), x)\n",
    "    \n",
    "    return sorted(x, reverse=True)"
   ]
  },
  {
   "cell_type": "code",
   "execution_count": 241,
   "metadata": {
    "collapsed": true
   },
   "outputs": [],
   "source": [
    "def get_loans(grade, sampled_df):\n",
    "    # 0 = A, 1= B etc\n",
    "    g = sampled_df.groupby('grade')\n",
    "    grades = sorted(g.groups.keys())\n",
    "    return g.get_group(grades[grade])\n",
    "    #return g.get_group(grades[grade]).drop(['loan_status','home_ownership_OTHER', 'home_ownership_NONE'] , axis=1)"
   ]
  },
  {
   "cell_type": "code",
   "execution_count": 185,
   "metadata": {
    "collapsed": false
   },
   "outputs": [],
   "source": [
    "loans_dict = {i: get_loans(i, sampled) for i in range(6)}"
   ]
  },
  {
   "cell_type": "code",
   "execution_count": 194,
   "metadata": {
    "collapsed": false
   },
   "outputs": [],
   "source": [
    "for i in range(6):\n",
    "    print \"Top 10 for grade %d\" %i\n",
    "    print predict_num(10, loans_dict[i])"
   ]
  },
  {
   "cell_type": "code",
   "execution_count": 204,
   "metadata": {
    "collapsed": false
   },
   "outputs": [],
   "source": [
    "def add_predictions_column(df):\n",
    "    df_copy = df.copy()\n",
    "    df_copy['predictions'] = [ i[1] for i in svc.predict_proba(df)]\n",
    "    return df_copy"
   ]
  },
  {
   "cell_type": "code",
   "execution_count": 200,
   "metadata": {
    "collapsed": false
   },
   "outputs": [],
   "source": [
    "a_loans = add_predictions_column(loans_dict[0])"
   ]
  },
  {
   "cell_type": "code",
   "execution_count": 205,
   "metadata": {
    "collapsed": false
   },
   "outputs": [],
   "source": [
    "loan_predictions = {0: a_loans}\n",
    "for i in range(1,4):\n",
    "    loan_predictions[i] = add_predictions_column(loans_dict[i])"
   ]
  },
  {
   "cell_type": "code",
   "execution_count": 250,
   "metadata": {
    "collapsed": false
   },
   "outputs": [
    {
     "name": "stderr",
     "output_type": "stream",
     "text": [
      "/Library/Python/2.7/site-packages/ipykernel/__main__.py:3: FutureWarning: sort(columns=....) is deprecated, use sort_values(by=.....)\n",
      "  app.launch_new_instance()\n"
     ]
    }
   ],
   "source": [
    "selected_indices = {}\n",
    "for i in range(0, 4):\n",
    "    loan_predictions[i] = loan_predictions[i].sort(columns='predictions', ascending=True)\n",
    "    selected_indices[i] = loan_predictions[i].index.values[:300]"
   ]
  },
  {
   "cell_type": "code",
   "execution_count": 264,
   "metadata": {
    "collapsed": false
   },
   "outputs": [],
   "source": [
    "avg_payout_prop = 0\n",
    "for i in range(4):\n",
    "    _df = df_train.ix[selected_indices[i]]\n",
    "    avg_payout_prop += np.sum((_df['total_pymnt'] - _df['collection_recovery_fee'])/_df['loan_amnt'] )\n",
    "avg_payout_prop /= 1200"
   ]
  },
  {
   "cell_type": "code",
   "execution_count": 265,
   "metadata": {
    "collapsed": false
   },
   "outputs": [
    {
     "data": {
      "text/plain": [
       "20974     A\n",
       "12472     A\n",
       "3661      A\n",
       "45836     A\n",
       "27474     A\n",
       "129008    A\n",
       "42375     A\n",
       "7048      A\n",
       "21004     A\n",
       "131285    A\n",
       "Name: grade, dtype: object"
      ]
     },
     "execution_count": 265,
     "metadata": {},
     "output_type": "execute_result"
    }
   ],
   "source": [
    "df_train.ix[loan_predictions[0].index.values[:10]]['grade']"
   ]
  },
  {
   "cell_type": "code",
   "execution_count": 266,
   "metadata": {
    "collapsed": false
   },
   "outputs": [
    {
     "data": {
      "text/plain": [
       "1.0517997424833119"
      ]
     },
     "execution_count": 266,
     "metadata": {},
     "output_type": "execute_result"
    }
   ],
   "source": [
    "avg_payout_prop"
   ]
  },
  {
   "cell_type": "code",
   "execution_count": 229,
   "metadata": {
    "collapsed": true
   },
   "outputs": [],
   "source": [
    "model_payout_prop = avg_payout_prop"
   ]
  },
  {
   "cell_type": "code",
   "execution_count": 242,
   "metadata": {
    "collapsed": false
   },
   "outputs": [
    {
     "name": "stdout",
     "output_type": "stream",
     "text": [
      "grade\n",
      "A    28576\n",
      "B    62605\n",
      "C    49988\n",
      "D    27881\n",
      "E    12242\n",
      "F     5706\n",
      "G     1125\n",
      "dtype: int64\n"
     ]
    }
   ],
   "source": [
    "grouped_grades = df_train.groupby('grade')\n",
    "print grouped_grades.size()\n",
    "num_sample = 300\n",
    "control_payout_prop = 0\n",
    "for i in range(4):\n",
    "    control_df = get_loans(i, df_train).sample(n=num_sample)\n",
    "    control_payout_prop += np.sum((control_df['total_pymnt'] - control_df['collection_recovery_fee'])/control_df['loan_amnt'] )\n",
    "\n",
    "control_payout_prop/= 1200"
   ]
  },
  {
   "cell_type": "code",
   "execution_count": 244,
   "metadata": {
    "collapsed": false
   },
   "outputs": [],
   "source": [
    "control_df = pd.read_csv('../LoanStats3b.csv', skiprows=1)"
   ]
  },
  {
   "cell_type": "code",
   "execution_count": 245,
   "metadata": {
    "collapsed": false
   },
   "outputs": [
    {
     "name": "stdout",
     "output_type": "stream",
     "text": [
      "grade\n",
      "A    28576\n",
      "B    62605\n",
      "C    49988\n",
      "D    27881\n",
      "E    12242\n",
      "F     5706\n",
      "G     1125\n",
      "dtype: int64\n"
     ]
    }
   ],
   "source": [
    "grouped_grades = control_df.groupby('grade')\n",
    "print grouped_grades.size()\n",
    "num_sample = 300\n",
    "control_payout_prop = 0\n",
    "for i in ['A', 'B', 'C', 'D']:\n",
    "    control_df = grouped_grades.get_group(i).sample(n=num_sample)\n",
    "    control_payout_prop += np.sum((control_df['total_pymnt'] - control_df['collection_recovery_fee'])/control_df['loan_amnt'] )\n",
    "\n",
    "control_payout_prop/= 1200"
   ]
  },
  {
   "cell_type": "code",
   "execution_count": 246,
   "metadata": {
    "collapsed": false
   },
   "outputs": [
    {
     "data": {
      "text/plain": [
       "1.0524686143622175"
      ]
     },
     "execution_count": 246,
     "metadata": {},
     "output_type": "execute_result"
    }
   ],
   "source": [
    "control_payout_prop"
   ]
  },
  {
   "cell_type": "code",
   "execution_count": null,
   "metadata": {
    "collapsed": true
   },
   "outputs": [],
   "source": []
  }
 ],
 "metadata": {
  "kernelspec": {
   "display_name": "Python 2",
   "language": "python",
   "name": "python2"
  },
  "language_info": {
   "codemirror_mode": {
    "name": "ipython",
    "version": 2
   },
   "file_extension": ".py",
   "mimetype": "text/x-python",
   "name": "python",
   "nbconvert_exporter": "python",
   "pygments_lexer": "ipython2",
   "version": "2.7.5"
  }
 },
 "nbformat": 4,
 "nbformat_minor": 0
}
